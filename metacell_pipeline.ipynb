{
 "cells": [
  {
   "cell_type": "markdown",
   "metadata": {},
   "source": [
    "# Pipeline to run metacell in Breast cellxgene dataset"
   ]
  },
  {
   "cell_type": "markdown",
   "metadata": {},
   "source": [
    "conda environment: cellxgene"
   ]
  },
  {
   "cell_type": "code",
   "execution_count": 44,
   "metadata": {},
   "outputs": [],
   "source": [
    "\n",
    "import anndata as ad             # For reading/writing AnnData files\n",
    "import matplotlib.pyplot as plt  # For plotting\n",
    "import metacells as mc           # The Metacells package\n",
    "import numpy as np               # For array/matrix operations\n",
    "import pandas as pd              # For data frames\n",
    "import os                        # For filesystem operations\n",
    "import seaborn as sb             # For plotting\n",
    "import scipy.sparse as sp        # For sparse matrices\n",
    "import shutil                    # for filesystem operations\n",
    "from math import hypot           # For plotting"
   ]
  },
  {
   "cell_type": "markdown",
   "metadata": {},
   "source": [
    "## 1. Loading anndata object"
   ]
  },
  {
   "cell_type": "code",
   "execution_count": 45,
   "metadata": {},
   "outputs": [],
   "source": [
    "full = ad.read_h5ad(\"/mnt/scratch1/Fcarcanholo/cellxgene_python/cellxgene_BRCA_2M.h5ad\")\n",
    "full = full[np.random.choice(full.n_obs, 300000, replace=False)] #making a sample of 300k cells to fast test"
   ]
  },
  {
   "cell_type": "markdown",
   "metadata": {},
   "source": [
    "### Converting ENSEMBL to SYMBOL"
   ]
  },
  {
   "cell_type": "code",
   "execution_count": 46,
   "metadata": {},
   "outputs": [
    {
     "name": "stderr",
     "output_type": "stream",
     "text": [
      "1 input query terms found dup hits:\t[('ENSG00000227110', 2)]\n",
      "15 input query terms found no hit:\t['ENSG00000237975', 'ENSG00000239332', 'ENSG00000223797', 'ENSG00000240875', 'ENSG00000270604', 'ENS\n",
      "/tmp/ipykernel_2538805/922074254.py:21: ImplicitModificationWarning: Trying to modify attribute `.var` of view, initializing view as actual.\n",
      "  full.var[\"gene_ids\"] = full.var.index\n",
      "/home/fcarcanh/.local/lib/python3.10/site-packages/anndata/_core/anndata.py:1820: UserWarning: Variable names are not unique. To make them unique, call `.var_names_make_unique`.\n",
      "  utils.warn_names_duplicates(\"var\")\n",
      "/home/fcarcanh/.local/lib/python3.10/site-packages/anndata/_core/anndata.py:1820: UserWarning: Variable names are not unique. To make them unique, call `.var_names_make_unique`.\n",
      "  utils.warn_names_duplicates(\"var\")\n"
     ]
    }
   ],
   "source": [
    "import pandas as pd\n",
    "import mygene\n",
    "\n",
    "# Create an instance of MyGeneInfo\n",
    "mg = mygene.MyGeneInfo()\n",
    "# Example list of ENSEMBL IDs\n",
    "ensembl_ids = full.var.index\n",
    "# Query MyGene.info for gene symbols\n",
    "# The query can handle a large list of IDs at once\n",
    "results = mg.querymany(ensembl_ids, scopes='ensembl.gene', fields='symbol', species='human')\n",
    "# Convert results into a DataFrame for easier handling\n",
    "result_df = pd.DataFrame(results)\n",
    "# Filter out any entries that did not return a symbol\n",
    "result_df = result_df[['query', 'symbol']].dropna()\n",
    "# Rename columns for clarity\n",
    "result_df.columns = ['Ensembl_ID', 'Gene_Symbol']\n",
    "result_df = result_df[result_df['Gene_Symbol'].duplicated(keep=False) == False]\n",
    "id_to_symbol = dict(zip(result_df['Ensembl_ID'], result_df['Gene_Symbol']))\n",
    "full = full[:,(result_df['Ensembl_ID'].tolist())] #leaving just the genes that has a convertion to gene symbol, without converting yet\n",
    "# Update the var index using the dictionary and filter out missing genes\n",
    "full.var[\"gene_ids\"] = full.var.index\n",
    "full.var.index = full.var.index.map(id_to_symbol)\n",
    "full.var_names_make_unique()\n",
    "full.raw.var.index = full.raw.var.index.map(id_to_symbol)\n",
    "full.raw.var.index = full.raw.var.index.astype(str)"
   ]
  },
  {
   "cell_type": "code",
   "execution_count": 47,
   "metadata": {},
   "outputs": [],
   "source": [
    "mc.ut.top_level(full)\n",
    "mc.ut.set_name(full, \"Breast_2M.full\")"
   ]
  },
  {
   "cell_type": "markdown",
   "metadata": {},
   "source": [
    "## 2. Cleaning the data"
   ]
  },
  {
   "cell_type": "markdown",
   "metadata": {},
   "source": [
    "### 2.1 Excluding doublets"
   ]
  },
  {
   "cell_type": "markdown",
   "metadata": {},
   "source": [
    "Assuming is already excluded in QC"
   ]
  },
  {
   "cell_type": "markdown",
   "metadata": {},
   "source": [
    "### 2.2 Decisions"
   ]
  },
  {
   "cell_type": "markdown",
   "metadata": {},
   "source": [
    "Cleaning up the data (whether in pre-processing or using the steps below) requires us to make decisions, based on prior biological knowledge and experience with the pipeline. Also, none of the decisions is final. In real analysis, we often iterate the analysis, revisiting and refining prior decisions, until we obtain a \"good\" final result. Here in the one-pass vignette, we assume we get things right the first time around."
   ]
  },
  {
   "cell_type": "markdown",
   "metadata": {},
   "source": [
    "#### 2.2.1 Excluding cells by UMIs count"
   ]
  },
  {
   "cell_type": "markdown",
   "metadata": {},
   "source": [
    "The first decision we need to make is \"how many UMIs can a clean cell contain\".\n",
    "Cells with \"too few\" UMIs indicate very low-quality sampling and might be just empty droplets.\n",
    "Cells with \"too many\" UMIs might be doublets.\n",
    "The thresholds to use depends on the technology and the dataset, and the specifics of any pre-processing done, if any. The method we use here is to look at the distribution of total UMIs per cell,\n",
    "and pick \"reasonable\" thresholds for exclusions based on it."
   ]
  },
  {
   "cell_type": "code",
   "execution_count": 48,
   "metadata": {},
   "outputs": [],
   "source": [
    "PROPERLY_SAMPLED_MIN_CELL_TOTAL = 800\n",
    "PROPERLY_SAMPLED_MAX_CELL_TOTAL = 20000"
   ]
  },
  {
   "cell_type": "code",
   "execution_count": 49,
   "metadata": {},
   "outputs": [
    {
     "name": "stdout",
     "output_type": "stream",
     "text": [
      "Will exclude 86 (0.03%%) cells with less than 800 UMIs\n",
      "Will exclude 0 (0.00%%) cells with more than 20000 UMIs\n"
     ]
    },
    {
     "data": {
      "image/png": "[encoded data removed]",
      "text/plain": [
       "<Figure size 500x500 with 1 Axes>"
      ]
     },
     "metadata": {},
     "output_type": "display_data"
    }
   ],
   "source": [
    "total_umis_per_cell = mc.ut.get_o_numpy(full, \"__x__\", sum=True)\n",
    "plot = sb.displot(total_umis_per_cell, log_scale=(10, None))\n",
    "plot.set(xlabel=\"UMIs\", ylabel=\"Density\", yticks=[])\n",
    "\n",
    "plot.refline(x=PROPERLY_SAMPLED_MIN_CELL_TOTAL, color=\"darkgreen\")\n",
    "plot.refline(x=PROPERLY_SAMPLED_MAX_CELL_TOTAL, color=\"crimson\")\n",
    "\n",
    "\n",
    "too_small_cells_count = np.sum(total_umis_per_cell < PROPERLY_SAMPLED_MIN_CELL_TOTAL)\n",
    "too_large_cells_count = np.sum(total_umis_per_cell > PROPERLY_SAMPLED_MAX_CELL_TOTAL)\n",
    "\n",
    "total_umis_per_cell = mc.ut.get_o_numpy(full, name=\"__x__\", sum=True)\n",
    "too_small_cells_percent = 100.0 * too_small_cells_count / full.n_obs\n",
    "too_large_cells_percent = 100.0 * too_large_cells_count / full.n_obs\n",
    "\n",
    "print(\n",
    "    f\"Will exclude {too_small_cells_count} ({too_small_cells_percent:.2f}%%) cells\"\n",
    "    f\" with less than {PROPERLY_SAMPLED_MIN_CELL_TOTAL} UMIs\"\n",
    ")\n",
    "print(\n",
    "    f\"Will exclude {too_large_cells_count} ({too_large_cells_percent:.2f}%%) cells\"\n",
    "    f\" with more than {PROPERLY_SAMPLED_MAX_CELL_TOTAL} UMIs\"\n",
    ")"
   ]
  },
  {
   "cell_type": "markdown",
   "metadata": {},
   "source": [
    "#### 2.2.2 Excluding genes by name"
   ]
  },
  {
   "cell_type": "markdown",
   "metadata": {},
   "source": [
    "The next decision we need to make is which genes to exclude from the data, by their names.\n",
    "The poster children for this are mytochondrial genes and strong sex-specific genes. Here we also exclude the non-coding `NEAT1` gene.\n",
    "\n",
    "In the iterative process, we may discover additional genes to exclude later on. Here in the one-pass vignette, we assume we have the right list from the start. Realistically, one would start with a list that was used for similar data in the past, and possibly tweak it later as needed."
   ]
  },
  {
   "cell_type": "code",
   "execution_count": 50,
   "metadata": {},
   "outputs": [],
   "source": [
    "EXCLUDED_GENE_NAMES = [\n",
    "    \"XIST\", \"MALAT1\",   # Sex-specific genes.\n",
    "    \"NEAT1\"             # Non-coding.\n",
    "]\n",
    "EXCLUDED_GENE_PATTERNS = [\"MT-.*\"]  # Mytochondrial."
   ]
  },
  {
   "cell_type": "markdown",
   "metadata": {},
   "source": [
    "We'll instruct the package to exclude the genes we have chosen.\n",
    "By default, the code will also automatically exclude a few additional genes,\n",
    "specifically genes with very high variance that are not correlated with any other gene (`bursty_lonely_gene`, see the documentation for details).\n",
    "Such genes are useless for grouping cells together;\n",
    "even worse, including them is actively harmful as they cause cells to appear to be deviants\n",
    "(have a gene in which they are very different from the rest of the cells in the same metacell),\n",
    "and thereby be marked as outliers."
   ]
  },
  {
   "cell_type": "markdown",
   "metadata": {},
   "source": [
    "Converting .X to dense array so i can change it"
   ]
  },
  {
   "cell_type": "code",
   "execution_count": 51,
   "metadata": {},
   "outputs": [],
   "source": [
    "if hasattr(full.X, 'toarray'):\n",
    "    cells_dense = full.X.toarray()  # Convert to dense array\n",
    "else:\n",
    "    cells_dense = full.X\n",
    "full.X = cells_dense"
   ]
  },
  {
   "cell_type": "code",
   "execution_count": 52,
   "metadata": {},
   "outputs": [
    {
     "name": "stderr",
     "output_type": "stream",
     "text": [
      "set Breast_2M.full.var[bursty_lonely_gene]: 0 true (0%) out of 15151 bools\n",
      "set Breast_2M.full.var[properly_sampled_gene]: 15151 true (100%) out of 15151 bools\n",
      "set Breast_2M.full.var[excluded_gene]: 3 true (0.0198%) out of 15151 bools\n"
     ]
    }
   ],
   "source": [
    "mc.pl.exclude_genes(\n",
    "    full,\n",
    "    excluded_gene_names=EXCLUDED_GENE_NAMES, \n",
    "    excluded_gene_patterns=EXCLUDED_GENE_PATTERNS,\n",
    "    random_seed=123456,\n",
    ")"
   ]
  },
  {
   "cell_type": "markdown",
   "metadata": {},
   "source": [
    "#### 2.2.3 Excluding cells by high excluded gene UMIs"
   ]
  },
  {
   "cell_type": "markdown",
   "metadata": {},
   "source": [
    "The next decision we need to make is which cells to exclude due to\n",
    "containing too many UMIs in the excluded genes.\n",
    "If a cell contains \"too many\" excluded (mainly mytochondrial) gene UMIs,\n",
    "this may indicate a badly sampled cell, leading to very skewed results.\n",
    "Again, the exact threshold depends on both the technology and the dataset.\n",
    "Here we resort to looking at the distribution of the fraction of excluded genes in each cell,\n",
    "and manually picking the threshold.\n",
    "\n",
    "We start by computing the total UMIs of excluded genes in each cell.\n",
    "We only need to do this once (as long as we don't change the list of excluded genes)."
   ]
  },
  {
   "cell_type": "code",
   "execution_count": 53,
   "metadata": {},
   "outputs": [
    {
     "name": "stderr",
     "output_type": "stream",
     "text": [
      "set Breast_2M.full.obs[excluded_umis]: 300000 float32s\n"
     ]
    }
   ],
   "source": [
    "mc.tl.compute_excluded_gene_umis(full)"
   ]
  },
  {
   "cell_type": "markdown",
   "metadata": {},
   "source": [
    "Next we'll pick a maximal fraction of excluded UMIs in each cell."
   ]
  },
  {
   "cell_type": "code",
   "execution_count": 54,
   "metadata": {},
   "outputs": [],
   "source": [
    "PROPERLY_SAMPLED_MAX_EXCLUDED_GENES_FRACTION = 0.25 #defaut"
   ]
  },
  {
   "cell_type": "markdown",
   "metadata": {},
   "source": [
    "We can visualize the cell excluded genes fraction threshold decision and adjust it accordingly:"
   ]
  },
  {
   "cell_type": "code",
   "execution_count": 55,
   "metadata": {},
   "outputs": [
    {
     "name": "stdout",
     "output_type": "stream",
     "text": [
      "Will exclude 0 (0.00%) cells with more than 25.00% excluded gene UMIs\n"
     ]
    },
    {
     "data": {
      "image/png": "[encoded data removed]",
      "text/plain": [
       "<Figure size 500x500 with 1 Axes>"
      ]
     },
     "metadata": {},
     "output_type": "display_data"
    }
   ],
   "source": [
    "excluded_umis_fraction_regularization = 1e-3  # Avoid 0 values in log scale plot.\n",
    "excluded_umis_per_cell = mc.ut.get_o_numpy(full, \"excluded_umis\")\n",
    "excluded_umis_fraction_per_cell = excluded_umis_per_cell / total_umis_per_cell\n",
    "\n",
    "excluded_umis_fraction_per_cell += excluded_umis_fraction_regularization\n",
    "plot = sb.displot(excluded_umis_fraction_per_cell, log_scale=(10, None))\n",
    "excluded_umis_fraction_per_cell -= excluded_umis_fraction_regularization\n",
    "\n",
    "plot.set(xlabel=\"Fraction of excluded gene UMIs\", ylabel=\"Density\", yticks=[])\n",
    "plot.refline(x=PROPERLY_SAMPLED_MAX_EXCLUDED_GENES_FRACTION, color=\"crimson\")\n",
    "\n",
    "too_excluded_cells_count = np.sum(\n",
    "    excluded_umis_fraction_per_cell > PROPERLY_SAMPLED_MAX_EXCLUDED_GENES_FRACTION\n",
    ")\n",
    "too_excluded_cells_fraction = too_excluded_cells_count / full.n_obs\n",
    "\n",
    "print(\n",
    "    f\"Will exclude {too_excluded_cells_count} ({100 * too_excluded_cells_fraction:.2f}%) cells\"\n",
    "    f\" with more than {100 * PROPERLY_SAMPLED_MAX_EXCLUDED_GENES_FRACTION:.2f}% excluded gene UMIs\"\n",
    ")"
   ]
  },
  {
   "cell_type": "markdown",
   "metadata": {},
   "source": [
    "Now excluding the cells"
   ]
  },
  {
   "cell_type": "code",
   "execution_count": 56,
   "metadata": {},
   "outputs": [
    {
     "name": "stderr",
     "output_type": "stream",
     "text": [
      "set Breast_2M.full.obs[properly_sampled_cell]: 299914 true (99.97%) out of 300000 bools\n",
      "set Breast_2M.full.obs[excluded_cell]: 86 true (0.02867%) out of 300000 bools\n"
     ]
    }
   ],
   "source": [
    "mc.pl.exclude_cells(\n",
    "    full,\n",
    "    properly_sampled_min_cell_total=PROPERLY_SAMPLED_MIN_CELL_TOTAL,\n",
    "    properly_sampled_max_cell_total=PROPERLY_SAMPLED_MAX_CELL_TOTAL,\n",
    "    properly_sampled_max_excluded_genes_fraction=PROPERLY_SAMPLED_MAX_EXCLUDED_GENES_FRACTION,\n",
    "    #additional_cells_masks=[\"|doublet_cell\"]\n",
    ")"
   ]
  },
  {
   "cell_type": "markdown",
   "metadata": {},
   "source": [
    "### 2.3 Extract the clean data"
   ]
  },
  {
   "cell_type": "code",
   "execution_count": 57,
   "metadata": {},
   "outputs": [
    {
     "name": "stderr",
     "output_type": "stream",
     "text": [
      "set immune_2M.one-pass.clean.obs[full_cell_index]: 299914 int32s\n",
      "set immune_2M.one-pass.clean.var[full_gene_index]: 15148 int32s\n"
     ]
    }
   ],
   "source": [
    "clean = mc.pl.extract_clean_data(full, name=\"immune_2M.one-pass.clean\")\n",
    "mc.ut.top_level(clean)"
   ]
  },
  {
   "cell_type": "markdown",
   "metadata": {},
   "source": [
    "## 3. Saving data"
   ]
  },
  {
   "cell_type": "markdown",
   "metadata": {},
   "source": [
    "Saving data before computting the metacells"
   ]
  },
  {
   "cell_type": "code",
   "execution_count": 58,
   "metadata": {},
   "outputs": [],
   "source": [
    "full.write_h5ad(\"/mnt/scratch1/Fcarcanholo/cellxgene_python/metacell_git/metacells-vignettes/output/one-pass/preliminary/hca_bm.full.h5ad\")\n",
    "clean.write_h5ad(\"/mnt/scratch1/Fcarcanholo/cellxgene_python/metacell_git/metacells-vignettes/output/one-pass/preliminary/hca_bm.clean.h5ad\")"
   ]
  },
  {
   "cell_type": "markdown",
   "metadata": {},
   "source": [
    "## 4. Compute the metacells"
   ]
  },
  {
   "cell_type": "code",
   "execution_count": 59,
   "metadata": {},
   "outputs": [],
   "source": [
    "cells = ad.read_h5ad(\"/mnt/scratch1/Fcarcanholo/cellxgene_python/metacell_git/metacells-vignettes/output/one-pass/preliminary/hca_bm.clean.h5ad\")\n",
    "mc.ut.set_name(cells, \"immune_2M.one-pass.preliminary.cells\")"
   ]
  },
  {
   "cell_type": "markdown",
   "metadata": {},
   "source": [
    "### 4.1 Decisions"
   ]
  },
  {
   "cell_type": "markdown",
   "metadata": {},
   "source": [
    "Even though we have the clean cells data, we can't compute metacells for it before making a few more decisions."
   ]
  },
  {
   "cell_type": "markdown",
   "metadata": {},
   "source": [
    "#### 4.1.1 Lateral genes"
   ]
  },
  {
   "cell_type": "markdown",
   "metadata": {},
   "source": [
    "A crucial decision when running metacells is the list of genes are lateral,\n",
    "that is, should **not** be used to group cells together.\n",
    "The poster child for this are cell-cycle genes.\n",
    "These genes are strong and any clustering algorithm will therefore prefer to group together cells in the same cell-cycle state,\n",
    "at the expense of mixing up other (reasonably close) cell states,\n",
    "which are what we are actually interested in.\n",
    "Note that lateral genes are still used in deviant cell detection,\n",
    "that is, each lateral gene should still have a consistent expression level in all the cells in each metacell.\n",
    "\n",
    "In the iterative process, we start with a very short list of genes we have a strong a-priori opinion about, expand it, and then iteratively add more genes until we settle on the final list. Here in the one-pass vignette, we assume we have the right list from the start. Realistically, one could start with a list that was used for similar data in the past, and possibly tweak it later as needed."
   ]
  },
  {
   "cell_type": "code",
   "execution_count": 60,
   "metadata": {},
   "outputs": [],
   "source": [
    "LATERAL_GENE_NAMES = [\n",
    "    \"ACSM3\", \"ANP32B\", \"APOE\", \"AURKA\", \"B2M\", \"BIRC5\", \"BTG2\", \"CALM1\", \"CD63\", \"CD69\", \"CDK4\",\n",
    "    \"CENPF\", \"CENPU\", \"CENPW\", \"CH17-373J23.1\", \"CKS1B\", \"CKS2\", \"COX4I1\", \"CXCR4\", \"DNAJB1\",\n",
    "    \"DONSON\", \"DUSP1\", \"DUT\", \"EEF1A1\", \"EEF1B2\", \"EIF3E\", \"EMP3\", \"FKBP4\", \"FOS\", \"FOSB\", \"FTH1\",\n",
    "    \"G0S2\", \"GGH\", \"GLTSCR2\", \"GMNN\", \"GNB2L1\", \"GPR183\", \"H2AFZ\", \"H3F3B\", \"HBM\", \"HIST1H1C\",\n",
    "    \"HIST1H2AC\", \"HIST1H2BG\", \"HIST1H4C\", \"HLA-A\", \"HLA-B\", \"HLA-C\", \"HLA-DMA\", \"HLA-DMB\",\n",
    "    \"HLA-DPA1\", \"HLA-DPB1\", \"HLA-DQA1\", \"HLA-DQB1\", \"HLA-DRA\", \"HLA-DRB1\", \"HLA-E\", \"HLA-F\", \"HMGA1\",\n",
    "    \"HMGB1\", \"HMGB2\", \"HMGB3\", \"HMGN2\", \"HNRNPAB\", \"HSP90AA1\", \"HSP90AB1\", \"HSPA1A\", \"HSPA1B\",\n",
    "    \"HSPA6\", \"HSPD1\", \"HSPE1\", \"HSPH1\", \"ID2\", \"IER2\", \"IGHA1\", \"IGHA2\", \"IGHD\", \"IGHG1\", \"IGHG2\",\n",
    "    \"IGHG3\", \"IGHG4\", \"IGHM\", \"IGKC\", \"IGKV1-12\", \"IGKV1-39\", \"IGKV1-5\", \"IGKV3-15\", \"IGKV4-1\",\n",
    "    \"IGLC2\", \"IGLC3\", \"IGLC6\", \"IGLC7\", \"IGLL1\", \"IGLL5\", \"IGLV2-34\", \"JUN\", \"JUNB\", \"KIAA0101\",\n",
    "    \"LEPROTL1\", \"LGALS1\", \"LINC01206\", \"LTB\", \"MCM3\", \"MCM4\", \"MCM7\", \"MKI67\", \"MT2A\", \"MYL12A\",\n",
    "    \"MYL6\", \"NASP\", \"NFKBIA\", \"NUSAP1\", \"PA2G4\", \"PCNA\", \"PDLIM1\", \"PLK3\", \"PPP1R15A\", \"PTMA\",\n",
    "    \"PTTG1\", \"RAN\", \"RANBP1\", \"RGCC\", \"RGS1\", \"RGS2\", \"RGS3\", \"RP11-1143G9.4\", \"RP11-160E2.6\",\n",
    "    \"RP11-53B5.1\", \"RP11-620J15.3\", \"RP5-1025A1.3\", \"RP5-1171I10.5\", \"RPS10\", \"RPS10-NUDT3\", \"RPS11\",\n",
    "    \"RPS12\", \"RPS13\", \"RPS14\", \"RPS15\", \"RPS15A\", \"RPS16\", \"RPS17\", \"RPS18\", \"RPS19\", \"RPS19BP1\",\n",
    "    \"RPS2\", \"RPS20\", \"RPS21\", \"RPS23\", \"RPS24\", \"RPS25\", \"RPS26\", \"RPS27\", \"RPS27A\", \"RPS27L\",\n",
    "    \"RPS28\", \"RPS29\", \"RPS3\", \"RPS3A\", \"RPS4X\", \"RPS4Y1\", \"RPS4Y2\", \"RPS5\", \"RPS6\", \"RPS6KA1\",\n",
    "    \"RPS6KA2\", \"RPS6KA2-AS1\", \"RPS6KA3\", \"RPS6KA4\", \"RPS6KA5\", \"RPS6KA6\", \"RPS6KB1\", \"RPS6KB2\",\n",
    "    \"RPS6KC1\", \"RPS6KL1\", \"RPS7\", \"RPS8\", \"RPS9\", \"RPSA\", \"RRM2\", \"SMC4\", \"SRGN\", \"SRSF7\", \"STMN1\",\n",
    "    \"TK1\", \"TMSB4X\", \"TOP2A\", \"TPX2\", \"TSC22D3\", \"TUBA1A\", \"TUBA1B\", \"TUBB\", \"TUBB4B\", \"TXN\", \"TYMS\",\n",
    "    \"UBA52\", \"UBC\", \"UBE2C\", \"UHRF1\", \"YBX1\", \"YPEL5\", \"ZFP36\", \"ZWINT\"\n",
    "]\n",
    "LATERAL_GENE_PATTERNS = [\"RP[LS].*\"]  # Ribosomal"
   ]
  },
  {
   "cell_type": "code",
   "execution_count": 61,
   "metadata": {},
   "outputs": [
    {
     "name": "stderr",
     "output_type": "stream",
     "text": [
      "set immune_2M.one-pass.preliminary.cells.var[lateral_gene]: 211 true (1.393%) out of 15148 bools\n"
     ]
    },
    {
     "name": "stdout",
     "output_type": "stream",
     "text": [
      "['ACSM3', 'ANP32B', 'APOE', 'AURKA', 'B2M', 'BIRC5', 'BTG2', 'CALM1', 'CD63', 'CD69', 'CDK4', 'CENPF', 'CENPU', 'CENPW', 'CKS1B', 'CKS2', 'COX4I1', 'CXCR4', 'DNAJB1', 'DONSON', 'DUSP1', 'DUT', 'EEF1A1', 'EEF1B2', 'EIF3E', 'EMP3', 'FKBP4', 'FOS', 'FOSB', 'FTH1', 'G0S2', 'GGH', 'GMNN', 'GPR183', 'HLA-A', 'HLA-B', 'HLA-C', 'HLA-DMA', 'HLA-DMB', 'HLA-DPA1', 'HLA-DPB1', 'HLA-DQA1', 'HLA-DQB1', 'HLA-DRA', 'HLA-DRB1', 'HLA-E', 'HLA-F', 'HMGA1', 'HMGB1', 'HMGB2', 'HMGB3', 'HMGN2', 'HNRNPAB', 'HSP90AA1', 'HSP90AB1', 'HSPA1A', 'HSPA1B', 'HSPA6', 'HSPD1', 'HSPE1', 'HSPH1', 'ID2', 'IER2', 'IGLL1', 'JUN', 'JUNB', 'LEPROTL1', 'LGALS1', 'LTB', 'MCM3', 'MCM4', 'MCM7', 'MKI67', 'MT2A', 'MYL12A', 'MYL6', 'NASP', 'NFKBIA', 'NUSAP1', 'PA2G4', 'PCNA', 'PDLIM1', 'PLK3', 'PPP1R15A', 'PTMA', 'PTTG1', 'RAN', 'RANBP1', 'RGCC', 'RGS1', 'RGS2', 'RGS3', 'RRM2', 'SMC4', 'SRGN', 'SRSF7', 'STMN1', 'TK1', 'TMSB4X', 'TOP2A', 'TPX2', 'TSC22D3', 'TUBA1A', 'TUBA1B', 'TUBB', 'TUBB4B', 'TXN', 'TYMS', 'UBA52', 'UBC', 'UBE2C', 'YBX1', 'YPEL5', 'ZFP36', 'ZWINT']\n",
      "and 96 RP[LS].* genes\n"
     ]
    }
   ],
   "source": [
    "# This will mark as \"lateral_gene\" any genes that match the above, if they exist in the clean dataset.\n",
    "mc.pl.mark_lateral_genes(\n",
    "    cells,\n",
    "    lateral_gene_names=LATERAL_GENE_NAMES,\n",
    "    lateral_gene_patterns=LATERAL_GENE_PATTERNS,\n",
    ")\n",
    "\n",
    "lateral_gene_mask = mc.ut.get_v_numpy(cells, \"lateral_gene\")\n",
    "lateral_gene_names = set(cells.var_names[lateral_gene_mask])\n",
    "print(sorted([\n",
    "    name for name in lateral_gene_names\n",
    "    if not name.startswith(\"RPL\") and not name.startswith(\"RPS\")\n",
    "]))\n",
    "print(f\"\"\"and {len([\n",
    "    name for name in lateral_gene_names if name.startswith(\"RPL\") or name.startswith(\"RPS\")\n",
    "])} RP[LS].* genes\"\"\")"
   ]
  },
  {
   "cell_type": "markdown",
   "metadata": {},
   "source": [
    "#### 4.1.2 Noisy genes"
   ]
  },
  {
   "cell_type": "markdown",
   "metadata": {},
   "source": [
    "Another important list of genes are the genes with higher than usual variance,\n",
    "which will cause a lot of cells to be deviant (inconsistent with their metacells),\n",
    "and therefore be marked as deviants (outliers). Marking them as \"noisy\" allows for more variance for these genes in each metacell, reducing the number of such outliers.\n",
    "\n",
    "In the iterative process, we typically start with an empty list of genes, and then iteratively add more genes until we settle on the final list. Here in the one-pass vignette, we assume we have the right list from the start. Realistically, one could start with a list that was used for similar data in the past, and possiblly tweak it later as needed."
   ]
  },
  {
   "cell_type": "code",
   "execution_count": 62,
   "metadata": {},
   "outputs": [],
   "source": [
    "NOISY_GENE_NAMES = [\n",
    "    \"CCL3\", \"CCL4\", \"CCL5\", \"CXCL8\", \"DUSP1\", \"FOS\", \"G0S2\", \"HBB\", \"HIST1H4C\", \"IER2\", \"IGKC\",\n",
    "    \"IGLC2\", \"JUN\", \"JUNB\", \"KLRB1\", \"MT2A\", \"RPS26\", \"RPS4Y1\", \"TRBC1\", \"TUBA1B\", \"TUBB\"\n",
    "]"
   ]
  },
  {
   "cell_type": "code",
   "execution_count": 63,
   "metadata": {},
   "outputs": [
    {
     "name": "stderr",
     "output_type": "stream",
     "text": [
      "set immune_2M.one-pass.preliminary.cells.var[noisy_gene]: 15 true (0.09902%) out of 15148 bools\n"
     ]
    }
   ],
   "source": [
    "# This will mark as \"noisy_gene\" any genes that match the above, if they exist in the clean dataset.\n",
    "mc.pl.mark_noisy_genes(cells, noisy_gene_names=NOISY_GENE_NAMES)"
   ]
  },
  {
   "cell_type": "markdown",
   "metadata": {},
   "source": [
    "#### 4.1.3 Parallelization"
   ]
  },
  {
   "cell_type": "markdown",
   "metadata": {},
   "source": [
    "Finally, we need to decide on how much parallelization to use.\n",
    "This is a purely technical decision - it does not affect the results, just the performance.\n",
    "\n",
    "The more parallel piles we use, the faster the computation will be\n",
    "(up to the number of physical processors, but that is handled automatically for us).\n",
    "\n",
    "However, having more parallel piles means using more memory.\n",
    "If we run out of memory, we'll need to reduce the number of parallel piles.\n",
    "You can track the memory usage by running `top` or `htop` during the computation.\n",
    "\n",
    "We provide a guesstimator for the maximal number of parallel piles that will fit in memory.\n",
    "This is by no means perfect, but it is a starting point."
   ]
  },
  {
   "cell_type": "code",
   "execution_count": 64,
   "metadata": {},
   "outputs": [
    {
     "name": "stdout",
     "output_type": "stream",
     "text": [
      "681\n"
     ]
    }
   ],
   "source": [
    "# Either use the guesstimator:\n",
    "max_parallel_piles = mc.pl.guess_max_parallel_piles(cells)\n",
    "# Or, if running out of memory manually override:\n",
    "# max_paralle_piles = ...\n",
    "print(max_parallel_piles)\n",
    "mc.pl.set_max_parallel_piles(max_parallel_piles)"
   ]
  },
  {
   "cell_type": "markdown",
   "metadata": {},
   "source": [
    "### 4.2 Computation"
   ]
  },
  {
   "cell_type": "markdown",
   "metadata": {},
   "source": [
    "We are (*finally*) ready to actually group the cells into metacells."
   ]
  },
  {
   "cell_type": "markdown",
   "metadata": {},
   "source": [
    "#### 4.2.1 Hyper-parameters"
   ]
  },
  {
   "cell_type": "markdown",
   "metadata": {},
   "source": [
    "The metacells pipeline has a *lot* of hyper parameters you can tweak. The defaults were chosen such that scRNA-seq data, especially 10x data, should work \"well\" out of the box. You should read the documentation and have a good understanding of the effect of anny parameter you may want to tweak, keeping in mind the synergy between some of the parameters.\n",
    "\n",
    "If we had to call out one hyper-parameter you *might* wish to tweak, it would be the `target_metacell_size`. This specifies the \"ideal\" number of cells in each metacell. The algorithm works hard to keep the actual metacell size close to this value - in particular, metacells larger than twice this size will be split, and metacells which are much smaller than this size will be merged, or dissolved (become outliers).\n",
    "\n",
    "By default this value is set to `96`. Setting it to a smaller value will create more metacells, which may allow capturing more subtle differences between cell states (e.g. along a gradient); this, however, would come at the cost of making less robust estimations of each gene's expression level in each metacell. This *might* be a worthwhile tradeoff if your cells are of higher quality.\n",
    "\n",
    "One technical \"hyper-paramater\" you *must* specify is the `random_seed`. A non-zero value will genenrate reproducible results. A zero value will generate non-reproducible results and will be *slightly* faster. We \"strongly urge\" you to use a non-zero as reproducible results are *much* easier to deal with."
   ]
  },
  {
   "cell_type": "markdown",
   "metadata": {},
   "source": [
    "#### 4.2.2 Assigning cells to metacells"
   ]
  },
  {
   "cell_type": "markdown",
   "metadata": {},
   "source": [
    "This is the core of the method.\n",
    "It can take a while.\n",
    "The dataset used in this example is far from trivial - it contains ~1/3M cells.\n",
    "This takes ~10 minutes to compute on a hefty (48 HT cores, 0.5TB RAM) server.\n",
    "You can see progress is being made by running the computation with a progress bar.\n",
    "This progress is rather non-linear,\n",
    "for example there's a pause at the start when computing rare gene modules,\n",
    "and it isn't smooth afterwards either.\n",
    "You can skip it alltogether by getting rid of the `with` statement."
   ]
  },
  {
   "cell_type": "code",
   "execution_count": null,
   "metadata": {},
   "outputs": [
    {
     "name": "stderr",
     "output_type": "stream",
     "text": [
      "Detect rare gene modules...\n",
      "100%|█████████▉[04:16]\n"
     ]
    }
   ],
   "source": [
    "with mc.ut.progress_bar():\n",
    "    mc.pl.divide_and_conquer_pipeline(cells, random_seed=123456)"
   ]
  },
  {
   "cell_type": "markdown",
   "metadata": {},
   "source": [
    "#### 4.2.3 Collecting the metacells"
   ]
  },
  {
   "cell_type": "markdown",
   "metadata": {},
   "source": [
    "The above merely computed a metacell name and index for each cell (\"Outliers\" and negative for outlier cells). We still need to collect all the cells of each metacell, to create a new `AnnData` where each profile is a metacell. Note that in this new metacells data, we no longer have UMIs per gene; instead, for each gene, we have an estimate of the fraction of its UMIs out of the total UMIs. Since `AnnData` can only hold a single 2D dataset, the result must be a separate object (with each \"observation\" being a metacell), so we copy all the per-gene annotations from the cells dataset to the result."
   ]
  },
  {
   "cell_type": "code",
   "execution_count": null,
   "metadata": {},
   "outputs": [],
   "source": [
    "metacells = \\\n",
    "    mc.pl.collect_metacells(cells, name=\"immune_2M.one-pass.preliminary.metacells\", random_seed=123456)\n",
    "print(f\"Preliminary: {metacells.n_obs} metacells, {metacells.n_vars} genes\")"
   ]
  },
  {
   "cell_type": "markdown",
   "metadata": {},
   "source": [
    "transposing metadata for metacell"
   ]
  },
  {
   "cell_type": "code",
   "execution_count": null,
   "metadata": {},
   "outputs": [],
   "source": [
    "# Getting metadata from single cell into metacell metadata\n",
    "mc.tl.convey_obs_to_group(\n",
    "    adata=cells, gdata=metacells,\n",
    "    property_name=\"cell_type\", to_property_name=\"cell_type\",\n",
    "    method=mc.ut.most_frequent  # This is the default, for categorical data\n",
    ")\n",
    "mc.tl.convey_obs_to_group(\n",
    "    adata=cells, gdata=metacells,\n",
    "    property_name=\"disease\", to_property_name=\"disease\",\n",
    "    method=mc.ut.most_frequent\n",
    ")"
   ]
  },
  {
   "cell_type": "markdown",
   "metadata": {},
   "source": [
    "Compute for mcview"
   ]
  },
  {
   "cell_type": "code",
   "execution_count": null,
   "metadata": {},
   "outputs": [],
   "source": [
    "with mc.ut.progress_bar():\n",
    "    mc.pl.compute_for_mcview(adata=cells, gdata=metacells, random_seed=123456)"
   ]
  },
  {
   "cell_type": "code",
   "execution_count": null,
   "metadata": {},
   "outputs": [],
   "source": [
    "min_long_edge_size = 4\n",
    "umap_x = mc.ut.get_o_numpy(metacells, \"x\")\n",
    "umap_y = mc.ut.get_o_numpy(metacells, \"y\")\n",
    "umap_edges = sp.coo_matrix(mc.ut.get_oo_proper(metacells, \"obs_outgoing_weights\"))\n",
    "sb.set()\n",
    "plot = sb.scatterplot(x=umap_x, y=umap_y, s=10)\n",
    "for (\n",
    "    source_index, target_index, weight\n",
    ") in zip(\n",
    "    umap_edges.row, umap_edges.col, umap_edges.data\n",
    "):\n",
    "    source_x = umap_x[source_index]\n",
    "    target_x = umap_x[target_index]\n",
    "    source_y = umap_y[source_index]\n",
    "    target_y = umap_y[target_index]\n",
    "    if hypot(target_x - source_x, target_y - source_y) >= min_long_edge_size:\n",
    "        plt.plot([source_x, target_x], [source_y, target_y],\n",
    "                 linewidth=weight * 2, color='indigo')\n",
    "plt.show()"
   ]
  },
  {
   "cell_type": "code",
   "execution_count": null,
   "metadata": {},
   "outputs": [],
   "source": [
    "import numpy as np\n",
    "import seaborn as sb\n",
    "import matplotlib.pyplot as plt\n",
    "from matplotlib.colors import ListedColormap\n",
    "\n",
    "# Assuming 'metacells' is your AnnData object and it has been processed\n",
    "umap_x = mc.ut.get_o_numpy(metacells, \"x\")\n",
    "umap_y = mc.ut.get_o_numpy(metacells, \"y\")\n",
    "umap_edges = sp.coo_matrix(mc.ut.get_oo_proper(metacells, \"obs_outgoing_weights\"))\n",
    "\n",
    "# Extract cell types from the AnnData object\n",
    "cell_types = metacells.obs['cell_type']\n",
    "\n",
    "# Create a color palette for the unique cell types\n",
    "unique_cell_types = cell_types.unique()\n",
    "colors = sb.color_palette(\"hsv\", len(unique_cell_types))  # You can choose other palettes\n",
    "\n",
    "# Create a mapping from cell type to color\n",
    "color_map = dict(zip(unique_cell_types, colors))\n",
    "\n",
    "# Map colors to each cell based on their type\n",
    "cell_colors = cell_types.map(color_map)\n",
    "\n",
    "# Set up the plot\n",
    "sb.set()\n",
    "plt.figure(figsize=(10, 8))\n",
    "plot = sb.scatterplot(x=umap_x, y=umap_y, s=10, hue=cell_types, palette=color_map)\n",
    "\n",
    "# Draw edges based on outgoing weights\n",
    "for source_index, target_index, weight in zip(umap_edges.row, umap_edges.col, umap_edges.data):\n",
    "    source_x = umap_x[source_index]\n",
    "    target_x = umap_x[target_index]\n",
    "    source_y = umap_y[source_index]\n",
    "    target_y = umap_y[target_index]\n",
    "    if hypot(target_x - source_x, target_y - source_y) >= min_long_edge_size:\n",
    "        plt.plot([source_x, target_x], [source_y, target_y],\n",
    "                 linewidth=weight * 2, color='indigo')\n",
    "\n",
    "# Add legend and labels\n",
    "plt.title(\"UMAP Plot Colored by Cell Type\")\n",
    "plt.xlabel(\"UMAP 1\")\n",
    "plt.ylabel(\"UMAP 2\")\n",
    "plt.legend(title='Cell Type', bbox_to_anchor=(1.05, 1), loc='upper left')\n",
    "plt.show()"
   ]
  },
  {
   "cell_type": "markdown",
   "metadata": {},
   "source": [
    "### Getting the MostCellType dataframe with annotation in \"cell\" dataset"
   ]
  },
  {
   "cell_type": "code",
   "execution_count": null,
   "metadata": {},
   "outputs": [],
   "source": [
    "cells_meta = cells.obs\n",
    "cells_meta = cells_meta[[\"cell_type\", \"metacell_name\"]]\n",
    "counts = cells_meta.groupby([\"metacell_name\", \"cell_type\"]).size()\n",
    "most_cell_type = counts.unstack(fill_value=0)\n",
    "most_cell_type['total_cells'] = most_cell_type.sum(axis=1)\n",
    "#getting the % of cells\n",
    "normalized_counts = most_cell_type.drop(columns='total_cells')\n",
    "normalized_counts = normalized_counts.div(most_cell_type['total_cells'], axis=0)\n",
    "most_cell_type[normalized_counts.columns] = normalized_counts"
   ]
  },
  {
   "cell_type": "markdown",
   "metadata": {},
   "source": [
    "Save most cell type in csv"
   ]
  },
  {
   "cell_type": "code",
   "execution_count": null,
   "metadata": {},
   "outputs": [],
   "source": [
    "most_cell_type.to_csv(\"/mnt/scratch1/Fcarcanholo/cellxgene_python/metacell_git/most_cell_type.csv\")"
   ]
  },
  {
   "cell_type": "markdown",
   "metadata": {},
   "source": [
    "Passing the most_cell_type summary information into metacell anndata as 2 new columns"
   ]
  },
  {
   "cell_type": "code",
   "execution_count": null,
   "metadata": {},
   "outputs": [],
   "source": [
    "metacells.obs[\"porct_cell_type\"] = None\n",
    "metacells.obs[\"total_cells\"] = None\n",
    "for line in range(len(metacells.obs)):\n",
    "    cell_type = metacells.obs[\"cell_type\"].iloc[line]\n",
    "    metacell_name = metacells.obs.index[line]\n",
    "    metacells.obs[\"porct_cell_type\"].iloc[line] = most_cell_type.loc[metacell_name, cell_type]\n",
    "    metacells.obs[\"total_cells\"].iloc[line] = most_cell_type[\"total_cells\"].loc[metacell_name]"
   ]
  },
  {
   "cell_type": "markdown",
   "metadata": {},
   "source": [
    "Seeing the distribution of porcentage of cells types within metacells"
   ]
  },
  {
   "cell_type": "code",
   "execution_count": null,
   "metadata": {},
   "outputs": [],
   "source": [
    "import matplotlib.pyplot as plt\n",
    "\n",
    "metacells.obs[\"porct_cell_type\"].plot(kind='hist', bins=100)\n",
    "plt.title(\"histogram of porcentage of cells within metacells\")\n",
    "plt.xlabel('Value')\n",
    "plt.ylabel('Frequency')\n",
    "#plt.legend(title='Columns')\n",
    "plt.show()"
   ]
  },
  {
   "cell_type": "markdown",
   "metadata": {},
   "source": [
    "Seeing the distribution of quantity of cells used to build metacells"
   ]
  },
  {
   "cell_type": "code",
   "execution_count": null,
   "metadata": {},
   "outputs": [],
   "source": [
    "metacells.obs[\"total_cells\"].plot(kind='hist', bins=100)\n",
    "plt.title(\"histogram of quantity of cells used to build metacells\")\n",
    "plt.xlabel('Value')\n",
    "plt.ylabel('Frequency')\n",
    "#plt.legend(title='Columns')\n",
    "plt.show()"
   ]
  },
  {
   "cell_type": "markdown",
   "metadata": {},
   "source": [
    "## Filtering to have just metacells with more than 95% of same cell type"
   ]
  },
  {
   "cell_type": "code",
   "execution_count": null,
   "metadata": {},
   "outputs": [],
   "source": [
    "metacell_output = metacells\n",
    "metacell_output = metacell_output[metacell_output.obs['porct_cell_type'] > 0.95] #0.95 has 2680 metacels, 0.90 3823"
   ]
  },
  {
   "cell_type": "code",
   "execution_count": null,
   "metadata": {},
   "outputs": [],
   "source": [
    "if 'porct_cell_type' in metacell_output.obs.columns:\n",
    "    metacell_output.obs['porct_cell_type'] = metacell_output.obs['porct_cell_type'].astype(str)\n",
    "metacell_output.obs['porct_cell_type'] = metacell_output.obs['porct_cell_type'].fillna(\"NaN\").astype(str)\n",
    "if 'total_cells' in metacell_output.obs.columns:\n",
    "    metacell_output.obs['total_cells'] = metacell_output.obs['total_cells'].astype(str)\n",
    "metacell_output.obs['total_cells'] = metacell_output.obs['total_cells'].fillna(\"NaN\").astype(str)"
   ]
  },
  {
   "cell_type": "markdown",
   "metadata": {},
   "source": [
    "Saving"
   ]
  },
  {
   "cell_type": "code",
   "execution_count": null,
   "metadata": {},
   "outputs": [],
   "source": [
    "metacell_output.write_h5ad(\"/mnt/scratch1/Fcarcanholo/cellxgene_python/metacell_git/metacell_output.filtred_BRCA.h5ad\")\n"
   ]
  }
 ],
 "metadata": {
  "kernelspec": {
   "display_name": "cellxgene",
   "language": "python",
   "name": "python3"
  },
  "language_info": {
   "codemirror_mode": {
    "name": "ipython",
    "version": 3
   },
   "file_extension": ".py",
   "mimetype": "text/x-python",
   "name": "python",
   "nbconvert_exporter": "python",
   "pygments_lexer": "ipython3",
   "version": "3.10.14"
  }
 },
 "nbformat": 4,
 "nbformat_minor": 2
}
