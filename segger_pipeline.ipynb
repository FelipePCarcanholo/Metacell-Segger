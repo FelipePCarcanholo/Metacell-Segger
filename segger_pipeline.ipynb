{
 "cells": [
  {
   "cell_type": "markdown",
   "metadata": {},
   "source": [
    "# Pipeline to run Segger"
   ]
  },
  {
   "cell_type": "markdown",
   "metadata": {},
   "source": [
    "Part is in command line, part is in python \n",
    "\n",
    "Segger is divided in 3 major steps: 1- Dataset creation, 2- Training, 3- Prediction\n",
    "\n",
    "First create the folder to store the segger first step, in there create a folder to store the models, and a third one to store the result\n"
   ]
  },
  {
   "cell_type": "markdown",
   "metadata": {},
   "source": [
    "# Bash part (step by step version)"
   ]
  },
  {
   "cell_type": "markdown",
   "metadata": {},
   "source": [
    "#### conda environment: segger-env"
   ]
  },
  {
   "cell_type": "markdown",
   "metadata": {},
   "source": [
    "### (Do copy and paste)"
   ]
  },
  {
   "cell_type": "markdown",
   "metadata": {},
   "source": [
    "## 1- Dataset Creation Input\n",
    "- Spatial dataset (base_dir)\n",
    "- Path to store dataset created (data_dir)\n",
    "- Single Cell/Metacell dataset (scrnaseq_file)\n",
    "- Column name of the sc/metacell cell type annotation (celltype_column)\n",
    "- Path to save time taken ( ; } 2>)"
   ]
  },
  {
   "cell_type": "markdown",
   "metadata": {},
   "source": [
    "### Code"
   ]
  },
  {
   "cell_type": "markdown",
   "metadata": {},
   "source": [
    "{ time python3 /mnt/scratch1/Fcarcanholo/cellxgene_python/segger_dev/src/segger/cli/create_dataset_fast.py \\\n",
    "   --base_dir /mnt/scratch1/Touchstone_data/public_data/Xenium_BreastCancer_DuctalCarcinoma \\\n",
    "--data_dir /mnt/scratch1/Fcarcanholo/cellxgene_python/other_spatial_xenium_breast/segger/sc_minor \\\n",
    "   --sample_type xenium \\\n",
    "   --scrnaseq_file /mnt/scratch1/Fcarcanholo/cellxgene_python/xenium_breast_segger/sc_BRCA_subtype/sc_BRCA_atlas_cells.h5ad \\\n",
    "   --celltype_column celltype_minor \\\n",
    "   --k_bd 3 \\\n",
    "   --dist_bd 15.0 \\\n",
    "   --k_tx 3 \\\n",
    "   --dist_tx 5.0 \\\n",
    "   --tile_width 200 \\\n",
    "   --tile_height 200 \\\n",
    "   --neg_sampling_ratio 5.0 \\\n",
    "   --frac 1.0 \\\n",
    "   --val_prob 0.1 \\\n",
    "   --test_prob 0.2 \\\n",
    "   --n_workers 16 ; } 2> /mnt/scratch1/Fcarcanholo/cellxgene_python/other_spatial_xenium_breast/segger/sc_minor/creating_time.txt\n"
   ]
  },
  {
   "cell_type": "markdown",
   "metadata": {},
   "source": [
    "## 2- Training Input\n",
    "- Path where you stored dataset created (dataset_dir)\n",
    "- Path to store models (models_dir)\n",
    "- Path to save time taken ( ; } 2>)"
   ]
  },
  {
   "cell_type": "markdown",
   "metadata": {},
   "source": [
    "### Code"
   ]
  },
  {
   "cell_type": "markdown",
   "metadata": {},
   "source": [
    "{ time python3 /mnt/scratch1/Fcarcanholo/cellxgene_python/segger_dev/src/segger/cli/train_model.py \\\n",
    "    --dataset_dir /mnt/scratch1/Fcarcanholo/cellxgene_python/other_spatial_xenium_breast/segger/sc_minor \\\n",
    "    --models_dir /mnt/scratch1/Fcarcanholo/cellxgene_python/other_spatial_xenium_breast/segger/sc_minor/models \\\n",
    "    --sample_tag first_training \\\n",
    "    --init_emb 8 \\\n",
    "    --hidden_channels 32 \\\n",
    "    --num_tx_tokens 500 \\\n",
    "    --out_channels 8 \\\n",
    "    --heads 2 \\\n",
    "    --num_mid_layers 2 \\\n",
    "    --batch_size 4 \\\n",
    "    --num_workers 2 \\\n",
    "    --accelerator cuda \\\n",
    "    --max_epochs 200 \\\n",
    "    --devices 1 \\\n",
    "    --strategy auto \\\n",
    "    --precision 16-mixed ; } 2> /mnt/scratch1/Fcarcanholo/cellxgene_python/other_spatial_xenium_breast/segger/sc_minor/training_time.txt"
   ]
  },
  {
   "cell_type": "markdown",
   "metadata": {},
   "source": [
    "## 3- Prediction\n",
    "- Path where you stored dataset created (segger_data_dir)\n",
    "- Path to store models (models_dir)\n",
    "- Path to store results of Segger (benchmarks_dir)\n",
    "- Path to the transcripts.parquet from the spatial data (transcripts_file)\n",
    "- Path to save time taken ( ; } 2>)\n"
   ]
  },
  {
   "cell_type": "markdown",
   "metadata": {},
   "source": [
    "### Code"
   ]
  },
  {
   "cell_type": "markdown",
   "metadata": {},
   "source": [
    "{ time python3 /mnt/scratch1/Fcarcanholo/cellxgene_python/segger_dev/src/segger/cli/predict_fast.py \\\n",
    "    --segger_data_dir /mnt/scratch1/Fcarcanholo/cellxgene_python/other_spatial_xenium_breast/segger/sc_minor \\\n",
    "    --models_dir /mnt/scratch1/Fcarcanholo/cellxgene_python/other_spatial_xenium_breast/segger/sc_minor/models \\\n",
    "    --benchmarks_dir /mnt/scratch1/Fcarcanholo/cellxgene_python/other_spatial_xenium_breast/segger/sc_minor/segment_res \\\n",
    "    --transcripts_file /mnt/scratch1/Touchstone_data/public_data/Xenium_BreastCancer_DuctalCarcinoma/transcripts.parquet \\\n",
    "    --batch_size 1 \\\n",
    "    --num_workers 1 \\\n",
    "    --model_version 0 \\\n",
    "    --save_tag segger_embedding_1001 \\\n",
    "    --min_transcripts 5 \\\n",
    "    --cell_id_col segger_cell_id \\\n",
    "    --use_cc false \\\n",
    "    --knn_method cuda \\\n",
    "    --file_format anndata \\\n",
    "    --k_bd 4 \\\n",
    "    --dist_bd 12.0 \\\n",
    "    --k_tx 5 \\\n",
    "    --dist_tx 5.0 ; } 2> /mnt/scratch1/Fcarcanholo/cellxgene_python/other_spatial_xenium_breast/segger/sc_minor/prediction_time.txt"
   ]
  },
  {
   "cell_type": "markdown",
   "metadata": {},
   "source": [
    "# straight forward version"
   ]
  },
  {
   "cell_type": "markdown",
   "metadata": {},
   "source": [
    "### First define your input\n",
    "- segger_dir is the directory to save all the segger outputs\n",
    "- spatial_dir is the path to xenium dataset to apply segger\n",
    "- mtc_or_sc_dataset is the path to metacell or single cell to use as reference to segger\n",
    "- cell_type_column_name is the name of the column with the cell type annotation"
   ]
  },
  {
   "cell_type": "markdown",
   "metadata": {},
   "source": [
    "conda activate segger-env\n",
    "segger_dir=\"/mnt/scratch1/Fcarcanholo/cellxgene_python/other_spatial_xenium_breast/segger/sanity_check_automatic\"\n",
    "spatial_dir=\"/mnt/scratch1/Touchstone_data/public_data/Xenium_BreastCancer_DuctalCarcinoma\"\n",
    "mtc_or_sc_dataset=\"/mnt/scratch1/Fcarcanholo/cellxgene_python/xenium_breast_segger/sc_BRCA_subtype/sc_BRCA_atlas_metacell_without_filter.h5ad\"\n",
    "cell_type_column_name=\"cell_type\"\n"
   ]
  },
  {
   "cell_type": "markdown",
   "metadata": {},
   "source": [
    "## Code"
   ]
  },
  {
   "cell_type": "markdown",
   "metadata": {},
   "source": [
    "mkdir -p \"$segger_dir/models\" \\\n",
    "&& \\\n",
    "mkdir -p \"$segger_dir/segment_res\" \\\n",
    "&& \\\n",
    "{ time python3 /mnt/scratch1/Fcarcanholo/cellxgene_python/segger_dev/src/segger/cli/create_dataset_fast.py \\\n",
    "   --base_dir \"$spatial_dir\" \\\n",
    "   --data_dir \"$segger_dir\" \\\n",
    "   --sample_type xenium \\\n",
    "   --scrnaseq_file \"$mtc_or_sc_dataset\" \\\n",
    "   --celltype_column \"$cell_type_column_name\" \\\n",
    "   --k_bd 3 \\\n",
    "   --dist_bd 15.0 \\\n",
    "   --k_tx 3 \\\n",
    "   --dist_tx 5.0 \\\n",
    "   --tile_width 200 \\\n",
    "   --tile_height 200 \\\n",
    "   --neg_sampling_ratio 5.0 \\\n",
    "   --frac 1.0 \\\n",
    "   --val_prob 0.1 \\\n",
    "   --test_prob 0.2 \\\n",
    "   --n_workers 16 ; } 2> \"$segger_dir/creating_time.txt\" \\\n",
    "&& \\\n",
    "{ time python3 /mnt/scratch1/Fcarcanholo/cellxgene_python/segger_dev/src/segger/cli/train_model.py \\\n",
    "    --dataset_dir \"$segger_dir\" \\\n",
    "    --models_dir \"$segger_dir/models\" \\\n",
    "    --sample_tag first_training \\\n",
    "    --init_emb 8 \\\n",
    "    --hidden_channels 32 \\\n",
    "    --num_tx_tokens 500 \\\n",
    "    --out_channels 8 \\\n",
    "    --heads 2 \\\n",
    "    --num_mid_layers 2 \\\n",
    "    --batch_size 4 \\\n",
    "    --num_workers 2 \\\n",
    "    --accelerator cuda \\\n",
    "    --max_epochs 200 \\\n",
    "    --devices 1 \\\n",
    "    --strategy auto \\\n",
    "    --precision 16-mixed ; } 2> \"$segger_dir/training_time.txt\" \\\n",
    "&& \\\n",
    "{ time python3 /mnt/scratch1/Fcarcanholo/cellxgene_python/segger_dev/src/segger/cli/predict_fast.py \\\n",
    "    --segger_data_dir \"$segger_dir\" \\\n",
    "    --models_dir \"$segger_dir/models\" \\\n",
    "    --benchmarks_dir \"$segger_dir/segment_res\" \\\n",
    "    --transcripts_file \"$spatial_dir/transcripts.parquet\" \\\n",
    "    --batch_size 1 \\\n",
    "    --num_workers 1 \\\n",
    "    --model_version 0 \\\n",
    "    --save_tag segger_embedding_1001 \\\n",
    "    --min_transcripts 5 \\\n",
    "    --cell_id_col segger_cell_id \\\n",
    "    --use_cc false \\\n",
    "    --knn_method cuda \\\n",
    "    --file_format anndata \\\n",
    "    --k_bd 4 \\\n",
    "    --dist_bd 12.0 \\\n",
    "    --k_tx 5 \\\n",
    "    --dist_tx 5.0 ; } 2> \"$segger_dir/prediction_time.txt\"\n"
   ]
  },
  {
   "cell_type": "markdown",
   "metadata": {},
   "source": [
    "# Python part"
   ]
  },
  {
   "cell_type": "markdown",
   "metadata": {},
   "source": [
    "conda environment: segger-env"
   ]
  },
  {
   "cell_type": "markdown",
   "metadata": {},
   "source": [
    "### Doing transfer label from the reference used on the dataset creation (First step of Segger) to the segger output"
   ]
  },
  {
   "cell_type": "markdown",
   "metadata": {},
   "source": [
    "In the path to segger result, will be created another folder to store the result, in there it will have the anndata object you need called \"segger_adata\". This it will be the object you must use to the following steps"
   ]
  },
  {
   "cell_type": "code",
   "execution_count": null,
   "metadata": {},
   "outputs": [],
   "source": [
    "from segger.validation.utils import annotate_query_with_reference\n",
    "\n",
    "#Reading segger direct output\n",
    "mtc_minor_cell_type = ad.read_h5ad(\"/mnt/scratch1/Fcarcanholo/cellxgene_python/other_spatial_xenium_breast/segger/mtc_minor/segment_res/segger_embedding_1001_0.5_False_4_12.0_5_5.0_20250201/segger_adata.h5ad\")\n",
    "#Reading metacell used as input in Dataset Creation (First step of segger)\n",
    "metacell = ad.read_h5ad(\"/mnt/scratch1/Fcarcanholo/cellxgene_python/xenium_breast_segger/sc_BRCA_subtype/sc_BRCA_atlas_metacell_without_filter.h5ad\")\n",
    "#transfer the label\n",
    "mtc_minor_cell_type_annotated = annotate_query_with_reference(reference_adata=metacell, query_adata=mtc_minor_cell_type, transfer_column=\"celltype_minor\")\n",
    "# mtc_minor_cell_type_annotated.write_h5ad(\"/mnt/scratch1/Fcarcanholo/cellxgene_python/other_spatial_xenium_breast/segger/segger_metacell_minor_creat_major_transf.h5ad\")"
   ]
  },
  {
   "cell_type": "markdown",
   "metadata": {},
   "source": [
    "## Analysing Spatial"
   ]
  },
  {
   "cell_type": "markdown",
   "metadata": {},
   "source": [
    "conda environment: cellxgene"
   ]
  },
  {
   "cell_type": "code",
   "execution_count": null,
   "metadata": {},
   "outputs": [],
   "source": [
    "import spatialdata as sd\n",
    "from spatialdata_io import xenium\n",
    "import matplotlib.pyplot as plt\n",
    "import seaborn as sns\n",
    "import scanpy as sc\n",
    "import squidpy as sq\n",
    "import anndata as ad"
   ]
  },
  {
   "cell_type": "markdown",
   "metadata": {},
   "source": [
    "In order to use the spatial functions for segger output I have to manualy set the .obsm[\"spatial\"] that is annotated in .obs"
   ]
  },
  {
   "cell_type": "code",
   "execution_count": null,
   "metadata": {},
   "outputs": [],
   "source": [
    "segger_metacell_minor = ad.read_h5ad(\"/mnt/scratch1/Fcarcanholo/cellxgene_python/other_spatial_xenium_breast/segger/segger_metacell_minor_ductal.h5ad\")\n",
    "spatial = segger_metacell_minor.obs[[\"cell_centroid_x\", \"cell_centroid_y\"]]\n",
    "spatial = spatial.to_numpy()\n",
    "segger_metacell_minor.obsm[\"spatial\"] = spatial"
   ]
  },
  {
   "cell_type": "markdown",
   "metadata": {},
   "source": [
    "Also, the segger output dont have the leiden annotation/calculation yet, so you have to do the basic spatial pipeline to run it"
   ]
  },
  {
   "cell_type": "code",
   "execution_count": null,
   "metadata": {},
   "outputs": [],
   "source": [
    "segger_metacell_minor.layers[\"counts\"] = segger_metacell_minor.X.copy()\n",
    "sc.pp.normalize_total(segger_metacell_minor, inplace=True)\n",
    "sc.pp.log1p(segger_metacell_minor)\n",
    "sc.pp.pca(segger_metacell_minor)\n",
    "sc.pp.neighbors(segger_metacell_minor)\n",
    "sc.tl.umap(segger_metacell_minor)\n",
    "sc.tl.leiden(segger_metacell_minor,resolution=1.5, key_added=\"leiden_1.5\")"
   ]
  },
  {
   "cell_type": "markdown",
   "metadata": {},
   "source": [
    "Now you are good to plot spatial plot with cell type annotation or/and leiden"
   ]
  },
  {
   "cell_type": "code",
   "execution_count": null,
   "metadata": {},
   "outputs": [],
   "source": [
    "import matplotlib.pyplot as plt\n",
    "\n",
    "fig, ax = plt.subplots(figsize=(10, 10))  # Adjust the size as needed\n",
    "sq.pl.spatial_scatter(\n",
    "    segger_metacell_minor,\n",
    "    library_id=\"spatial\",\n",
    "    shape=None,\n",
    "    color=[\n",
    "        \"cell_type\"\n",
    "    ],\n",
    "    ax=ax  # Pass the axis to the function\n",
    ")"
   ]
  }
 ],
 "metadata": {
  "kernelspec": {
   "display_name": "segger-env",
   "language": "python",
   "name": "python3"
  },
  "language_info": {
   "name": "python",
   "version": "3.10.16"
  }
 },
 "nbformat": 4,
 "nbformat_minor": 2
}
